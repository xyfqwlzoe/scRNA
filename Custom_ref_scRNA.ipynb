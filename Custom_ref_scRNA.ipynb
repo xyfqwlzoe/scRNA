{
  "nbformat": 4,
  "nbformat_minor": 0,
  "metadata": {
    "colab": {
      "provenance": []
    },
    "kernelspec": {
      "name": "python3",
      "display_name": "Python 3"
    },
    "language_info": {
      "name": "python"
    }
  },
  "cells": [
    {
      "cell_type": "markdown",
      "source": [
        "Building a Custom Reference for Cell Ranger (mkref): Adding a Marker Gene to the FASTA and GTF"
      ],
      "metadata": {
        "id": "pkYLXrb55evh"
      }
    },
    {
      "cell_type": "markdown",
      "source": [
        "1. **Prepare the Marker Gene Sequence:**\n",
        "\n",
        "Create a new FASTA file (e.g., marker_gene.fa) containing the sequence of the marker gene. Ensure the sequence header follows the convention used in the main reference FASTA file.\n",
        "\n",
        "Example marker_gene.fa:"
      ],
      "metadata": {
        "id": "GW7DzJQp53Kx"
      }
    },
    {
      "cell_type": "code",
      "source": [
        ">GFP\n",
        "TACACACGAATAAAAGATAACAAAGATGAGTAAAGGAGAAGAACTTTTCACTGGAGTTGTCCCAATTCTT\n",
        "GTTGAATTAGATGGCGATGTTAATGGGCAAAAATTCTCTGTCAGTGGAGAGGGTGAAGGTGATGCAACAT\n",
        "ACGGAAAACTTACCCTTAAATTTATTTGCACTACTGGGAAGCTACCTGTTCCATGGCCAACACTTGTCAC\n",
        "TACTTTCTCTTATGGTGTTCAATGCTTTTCAAGATACCCAGATCATATGAAACAGCATGACTTTTTCAAG\n",
        "AGTGCCATGCCCGAAGGTTATGTACAGGAAAGAACTATATTTTACAAAGATGACGGGAACTACAAGACAC\n",
        "GTGCTGAAGTCAAGTTTGAAGGTGATACCCTTGTTAATAGAATCGAGTTAAAAGGTATTGATTTTAAAGA\n",
        "AGATGGAAACATTCTTGGACACAAAATGGAATACAACTATAACTCACATAATGTATACATCATGGCAGAC\n",
        "AAACCAAAGAATGGAATCAAAGTTAACTTCAAAATTAGACACAACATTAAAGATGGAAGCGTTCAATTAG\n",
        "CAGACCATTATCAACAAAATACTCCAATTGGCGATGGCCCTGTCCTTTTACCAGACAACCATTACCTGTC\n",
        "CACACAATCTGCCCTTTCCAAAGATCCCAACGAAAAGAGAGATCACATGATCCTTCTTGAGTTTGTAACA\n",
        "GCTGCTGGGATTACACATGGCATGGATGAACTATACAAATAAATGTCCAGACTTCCAATTGACACTAAAG\n",
        "TGTCCGAACAATTACTAAATTCTCAGGGTTCCTGGTTAAATTCAGGCTGAGACTTTATTTATATATTTAT\n",
        "AGATTCATTAAAATTTTATGAATAATTTATTGATGTTATTAATAGGGGCTATTTTCTTATTAAATAGGCT\n",
        "ACTGGAGTGTAT"
      ],
      "metadata": {
        "id": "XzXtXFAr6Atb"
      },
      "execution_count": null,
      "outputs": []
    },
    {
      "cell_type": "markdown",
      "source": [
        "2. **Count the Total Number of Bases in the Sequence:**\n",
        "\n",
        "Use the following command to count the total number of bases in the marker gene sequence:"
      ],
      "metadata": {
        "id": "Exejwuvu6ClB"
      }
    },
    {
      "cell_type": "code",
      "source": [
        "cat marker_gene.fa | grep -v \"^>\" | tr -d \"\\n\" | wc -c"
      ],
      "metadata": {
        "id": "fgo3KaiR6Gfg"
      },
      "execution_count": null,
      "outputs": []
    },
    {
      "cell_type": "markdown",
      "source": [
        "There are 922 base. This is important to know for the next step."
      ],
      "metadata": {
        "id": "5lS6CqfB6MqS"
      }
    },
    {
      "cell_type": "markdown",
      "source": [
        "3. **Create a Custom GTF for the Marker Gene:**\n",
        "\n",
        "Write a custom GTF entry for the marker gene:"
      ],
      "metadata": {
        "id": "hmlHPpbY6Ql2"
      }
    },
    {
      "cell_type": "code",
      "source": [
        "echo -e 'GFP\\tunknown\\texon\\t1\\t922\\t.\\t+\\t.\\tgene_id \"GFP\"; transcript_id \"GFP\"; gene_name \"GFP\"; gene_biotype \"protein_coding\";' > marker_gene.gtf"
      ],
      "metadata": {
        "id": "_MsEGWic6VcQ"
      },
      "execution_count": null,
      "outputs": []
    },
    {
      "cell_type": "markdown",
      "source": [
        "The marker_gene.gtf file should look like this:"
      ],
      "metadata": {
        "id": "xlbx6aNY6kR_"
      }
    },
    {
      "cell_type": "code",
      "source": [
        "GFP     unknown exon    1       922     .       +       .       gene_id \"GFP\"; transcript_id \"GFP\"; gene_name \"GFP\"; gene_biotype \"protein_coding\";"
      ],
      "metadata": {
        "id": "iMbXlEMl6nSb"
      },
      "execution_count": null,
      "outputs": []
    },
    {
      "cell_type": "markdown",
      "source": [
        "4. **Integrate GFP into Existing Reference Files:**\n",
        "\n",
        "Copy the existing genome FASTA file to a new file:"
      ],
      "metadata": {
        "id": "9nYGoCcT6tJs"
      }
    },
    {
      "cell_type": "code",
      "source": [
        "cp path/to/refdata/fasta/genome.fa genome_marker_gene.fa"
      ],
      "metadata": {
        "id": "ROwe2rSd6ujS"
      },
      "execution_count": null,
      "outputs": []
    },
    {
      "cell_type": "markdown",
      "source": [
        "Append the marker gene sequence to the new genome FASTA file:"
      ],
      "metadata": {
        "id": "0g16ZddD61Bc"
      }
    },
    {
      "cell_type": "code",
      "source": [
        "cat marker_gene.fa >> genome_marker_gene.fa"
      ],
      "metadata": {
        "id": "ixsJ8DNa62Vu"
      },
      "execution_count": null,
      "outputs": []
    },
    {
      "cell_type": "markdown",
      "source": [
        "Verify the addition by checking for the marker gene entry in the file:"
      ],
      "metadata": {
        "id": "DuNp_tdw64sQ"
      }
    },
    {
      "cell_type": "code",
      "source": [
        "grep \">\" genome_marker_gene.fa"
      ],
      "metadata": {
        "id": "9cfe_5Pt663U"
      },
      "execution_count": null,
      "outputs": []
    },
    {
      "cell_type": "markdown",
      "source": [
        "The output looks similar to the following:"
      ],
      "metadata": {
        "id": "l_8fjMRc7CeQ"
      }
    },
    {
      "cell_type": "code",
      "source": [
        ">1 dna:chromosome chromosome:GRCz11:1:1:59578282:1 REF\n",
        ">10 dna:chromosome chromosome:GRCz11:10:1:45420867:1 REF\n",
        ">11 dna:chromosome chromosome:GRCz11:11:1:45484837:1 REF\n",
        ">12 dna:chromosome chromosome:GRCz11:12:1:49182954:1 REF\n",
        ">13 dna:chromosome chromosome:GRCz11:13:1:52186027:1 REF\n",
        ">14 dna:chromosome chromosome:GRCz11:14:1:52660232:1 REF\n",
        ">15 dna:chromosome chromosome:GRCz11:15:1:48040578:1 REF\n",
        ">16 dna:chromosome chromosome:GRCz11:16:1:55266484:1 REF\n",
        ">17 dna:chromosome chromosome:GRCz11:17:1:53461100:1 REF\n",
        ">18 dna:chromosome chromosome:GRCz11:18:1:51023478:1 REF\n",
        ">19 dna:chromosome chromosome:GRCz11:19:1:48449771:1 REF\n",
        ">2 dna:chromosome chromosome:GRCz11:2:1:59640629:1 REF\n",
        ">20 dna:chromosome chromosome:GRCz11:20:1:55201332:1 REF\n",
        ">21 dna:chromosome chromosome:GRCz11:21:1:45934066:1 REF\n",
        ">22 dna:chromosome chromosome:GRCz11:22:1:39133080:1 REF\n",
        ">23 dna:chromosome chromosome:GRCz11:23:1:46223584:1 REF\n",
        ">24 dna:chromosome chromosome:GRCz11:24:1:42172926:1 REF\n",
        ">25 dna:chromosome chromosome:GRCz11:25:1:37502051:1 REF\n",
        ">3 dna:chromosome chromosome:GRCz11:3:1:62628489:1 REF\n",
        ">4 dna:chromosome chromosome:GRCz11:4:1:78093715:1 REF\n",
        ">5 dna:chromosome chromosome:GRCz11:5:1:72500376:1 REF\n",
        ">6 dna:chromosome chromosome:GRCz11:6:1:60270059:1 REF\n",
        ">7 dna:chromosome chromosome:GRCz11:7:1:74282399:1 REF\n",
        ">8 dna:chromosome chromosome:GRCz11:8:1:54304671:1 REF\n",
        ">9 dna:chromosome chromosome:GRCz11:9:1:56459846:1 REF\n",
        ">MT dna:chromosome chromosome:GRCz11:MT:1:16596:1 REF\n",
        ">KN149696.2 dna:scaffold scaffold:GRCz11:KN149696.2:1:368252:1 REF\n",
        ">KN147651.2 dna:scaffold scaffold:GRCz11:KN147651.2:1:351968:1 REF\n",
        ">KN149690.1 dna:scaffold scaffold:GRCz11:KN149690.1:1:343018:1 REF\n",
        ">KN149686.1 dna:scaffold scaffold:GRCz11:KN149686.1:1:260365:1 REF\n",
        ">KN147652.2 dna:scaffold scaffold:GRCz11:KN147652.2:1:252640:1 REF\n",
        ">KN149688.2 dna:scaffold scaffold:GRCz11:KN149688.2:1:252035:1 REF\n",
        ">KN149691.1 dna:scaffold scaffold:GRCz11:KN149691.1:1:233193:1 REF\n",
        "...\n",
        "\n",
        ">GFP"
      ],
      "metadata": {
        "id": "FOJ8DIGa7Dl6"
      },
      "execution_count": null,
      "outputs": []
    },
    {
      "cell_type": "markdown",
      "source": [
        "5. **Modify the GTF File:**\n",
        "\n",
        "Copy the existing filtered GTF file to a new file:"
      ],
      "metadata": {
        "id": "eoeXCh-Y7HOd"
      }
    },
    {
      "cell_type": "code",
      "source": [
        "cp path/to/refdata/genes/genes.gtf genes_marker_gene.gtf"
      ],
      "metadata": {
        "id": "9D7sVINy7NOX"
      },
      "execution_count": null,
      "outputs": []
    },
    {
      "cell_type": "markdown",
      "source": [
        "Append the marker gene GTF entry to the new filtered GTF file:"
      ],
      "metadata": {
        "id": "UBPGNBNX7Vv4"
      }
    },
    {
      "cell_type": "code",
      "source": [
        "cat marker_gene.gtf >> genes_marker_gene.gtf"
      ],
      "metadata": {
        "id": "nLebHnx97Yci"
      },
      "execution_count": null,
      "outputs": []
    },
    {
      "cell_type": "markdown",
      "source": [
        "Verify the addition by checking the end of the file:"
      ],
      "metadata": {
        "id": "f3onCxNl7dTO"
      }
    },
    {
      "cell_type": "code",
      "source": [
        "tail genes_marker_gene.gtf"
      ],
      "metadata": {
        "id": "NJ00XbvE7fhJ"
      },
      "execution_count": null,
      "outputs": []
    },
    {
      "cell_type": "markdown",
      "source": [
        "The output looks similar to the following with the GTF entry as the last line of the file:"
      ],
      "metadata": {
        "id": "ycxQJs8a7jG0"
      }
    },
    {
      "cell_type": "code",
      "source": [
        "MT  RefSeq  start_codon 15308   15310   .   +   0   gene_id \"ENSDARG00000063924\"; gene_version \"3\"; transcript_id \"ENSDART00000093625\"; transcript_version \"3\"; exon_number \"1\"; gene_name \"mt-cyb\"; gene_source \"RefSeq\"; gene_biotype \"protein_coding\"; transcript_name \"mt-cyb-201\"; transcript_source \"RefSeq\"; transcript_biotype \"protein_coding\";\n",
        "GFP unknown exon    1   922 .   +   .   gene_id \"GFP\"; transcript_id \"GFP\"; gene_name \"GFP\"; gene_biotype \"protein_coding\";\n"
      ],
      "metadata": {
        "id": "urdXo-nd7mDY"
      },
      "execution_count": null,
      "outputs": []
    },
    {
      "cell_type": "markdown",
      "source": [
        "6. **Build a Custom Reference with Cell Ranger:**\n",
        "\n",
        "Use the cellranger mkref command with the new genome FASTA and GTF files to create a custom reference directory:"
      ],
      "metadata": {
        "id": "nL8J8nSM7p5u"
      }
    },
    {
      "cell_type": "code",
      "source": [
        "cellranger mkref --genome=markergene_custom_genome \\\n",
        "                 --fasta=genome_marker_gene.fa \\\n",
        "                 --genes=genes_marker_gene.gtf"
      ],
      "metadata": {
        "id": "ecANHIQg7zi7"
      },
      "execution_count": null,
      "outputs": []
    },
    {
      "cell_type": "markdown",
      "source": [
        "This command creates a custom reference directory named markergene_custom_genome/."
      ],
      "metadata": {
        "id": "ck62DMe777JH"
      }
    },
    {
      "cell_type": "markdown",
      "source": [
        "Tips:\n",
        "\n",
        "1.Ensure the correct reference directory is updated in cellranger.gex.sh.\n",
        "\n",
        "2.Ensure the correct \"script\" directory is updated in run.gex.sh after updating cellranger.gex.sh.\n",
        "\n",
        "3.More details: https://www.10xgenomics.com/support/software/cell-ranger/latest/tutorials/cr-tutorial-mr"
      ],
      "metadata": {
        "id": "fUolA_fe79GZ"
      }
    }
  ]
}
